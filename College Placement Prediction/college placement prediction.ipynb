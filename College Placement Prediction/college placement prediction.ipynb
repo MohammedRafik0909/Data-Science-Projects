{
 "cells": [
  {
   "cell_type": "markdown",
   "id": "d7de69a2",
   "metadata": {},
   "source": [
    "# Predicting the placement of a college student cgpa and iq"
   ]
  },
  {
   "cell_type": "markdown",
   "id": "b3af3af8",
   "metadata": {},
   "source": [
    "### importing necessary packages and dataset"
   ]
  },
  {
   "cell_type": "code",
   "execution_count": 1,
   "id": "167d6619",
   "metadata": {},
   "outputs": [],
   "source": [
    "import pandas as pd\n",
    "import matplotlib.pyplot as plt\n",
    "from sklearn.linear_model import LogisticRegression\n",
    "from sklearn.model_selection import train_test_split\n",
    "from sklearn.metrics import accuracy_score"
   ]
  },
  {
   "cell_type": "code",
   "execution_count": 2,
   "id": "ab9bd27e",
   "metadata": {},
   "outputs": [],
   "source": [
    "data = pd.read_csv('placement-dataset.csv')"
   ]
  },
  {
   "cell_type": "code",
   "execution_count": 3,
   "id": "b5e80292",
   "metadata": {},
   "outputs": [
    {
     "data": {
      "text/html": [
       "<div>\n",
       "<style scoped>\n",
       "    .dataframe tbody tr th:only-of-type {\n",
       "        vertical-align: middle;\n",
       "    }\n",
       "\n",
       "    .dataframe tbody tr th {\n",
       "        vertical-align: top;\n",
       "    }\n",
       "\n",
       "    .dataframe thead th {\n",
       "        text-align: right;\n",
       "    }\n",
       "</style>\n",
       "<table border=\"1\" class=\"dataframe\">\n",
       "  <thead>\n",
       "    <tr style=\"text-align: right;\">\n",
       "      <th></th>\n",
       "      <th>Unnamed: 0</th>\n",
       "      <th>cgpa</th>\n",
       "      <th>iq</th>\n",
       "      <th>placement</th>\n",
       "    </tr>\n",
       "  </thead>\n",
       "  <tbody>\n",
       "    <tr>\n",
       "      <th>0</th>\n",
       "      <td>0</td>\n",
       "      <td>6.8</td>\n",
       "      <td>123.0</td>\n",
       "      <td>1</td>\n",
       "    </tr>\n",
       "    <tr>\n",
       "      <th>1</th>\n",
       "      <td>1</td>\n",
       "      <td>5.9</td>\n",
       "      <td>106.0</td>\n",
       "      <td>0</td>\n",
       "    </tr>\n",
       "    <tr>\n",
       "      <th>2</th>\n",
       "      <td>2</td>\n",
       "      <td>5.3</td>\n",
       "      <td>121.0</td>\n",
       "      <td>0</td>\n",
       "    </tr>\n",
       "    <tr>\n",
       "      <th>3</th>\n",
       "      <td>3</td>\n",
       "      <td>7.4</td>\n",
       "      <td>132.0</td>\n",
       "      <td>1</td>\n",
       "    </tr>\n",
       "    <tr>\n",
       "      <th>4</th>\n",
       "      <td>4</td>\n",
       "      <td>5.8</td>\n",
       "      <td>142.0</td>\n",
       "      <td>0</td>\n",
       "    </tr>\n",
       "  </tbody>\n",
       "</table>\n",
       "</div>"
      ],
      "text/plain": [
       "   Unnamed: 0  cgpa     iq  placement\n",
       "0           0   6.8  123.0          1\n",
       "1           1   5.9  106.0          0\n",
       "2           2   5.3  121.0          0\n",
       "3           3   7.4  132.0          1\n",
       "4           4   5.8  142.0          0"
      ]
     },
     "execution_count": 3,
     "metadata": {},
     "output_type": "execute_result"
    }
   ],
   "source": [
    "data.head()"
   ]
  },
  {
   "cell_type": "code",
   "execution_count": 4,
   "id": "f88edd82",
   "metadata": {},
   "outputs": [],
   "source": [
    "data = data.drop('Unnamed: 0',axis=1)"
   ]
  },
  {
   "cell_type": "code",
   "execution_count": 5,
   "id": "45c3b813",
   "metadata": {},
   "outputs": [
    {
     "data": {
      "text/html": [
       "<div>\n",
       "<style scoped>\n",
       "    .dataframe tbody tr th:only-of-type {\n",
       "        vertical-align: middle;\n",
       "    }\n",
       "\n",
       "    .dataframe tbody tr th {\n",
       "        vertical-align: top;\n",
       "    }\n",
       "\n",
       "    .dataframe thead th {\n",
       "        text-align: right;\n",
       "    }\n",
       "</style>\n",
       "<table border=\"1\" class=\"dataframe\">\n",
       "  <thead>\n",
       "    <tr style=\"text-align: right;\">\n",
       "      <th></th>\n",
       "      <th>cgpa</th>\n",
       "      <th>iq</th>\n",
       "      <th>placement</th>\n",
       "    </tr>\n",
       "  </thead>\n",
       "  <tbody>\n",
       "    <tr>\n",
       "      <th>0</th>\n",
       "      <td>6.8</td>\n",
       "      <td>123.0</td>\n",
       "      <td>1</td>\n",
       "    </tr>\n",
       "    <tr>\n",
       "      <th>1</th>\n",
       "      <td>5.9</td>\n",
       "      <td>106.0</td>\n",
       "      <td>0</td>\n",
       "    </tr>\n",
       "    <tr>\n",
       "      <th>2</th>\n",
       "      <td>5.3</td>\n",
       "      <td>121.0</td>\n",
       "      <td>0</td>\n",
       "    </tr>\n",
       "    <tr>\n",
       "      <th>3</th>\n",
       "      <td>7.4</td>\n",
       "      <td>132.0</td>\n",
       "      <td>1</td>\n",
       "    </tr>\n",
       "    <tr>\n",
       "      <th>4</th>\n",
       "      <td>5.8</td>\n",
       "      <td>142.0</td>\n",
       "      <td>0</td>\n",
       "    </tr>\n",
       "  </tbody>\n",
       "</table>\n",
       "</div>"
      ],
      "text/plain": [
       "   cgpa     iq  placement\n",
       "0   6.8  123.0          1\n",
       "1   5.9  106.0          0\n",
       "2   5.3  121.0          0\n",
       "3   7.4  132.0          1\n",
       "4   5.8  142.0          0"
      ]
     },
     "execution_count": 5,
     "metadata": {},
     "output_type": "execute_result"
    }
   ],
   "source": [
    "data.head()"
   ]
  },
  {
   "cell_type": "code",
   "execution_count": 6,
   "id": "60432945",
   "metadata": {},
   "outputs": [
    {
     "data": {
      "text/html": [
       "<div>\n",
       "<style scoped>\n",
       "    .dataframe tbody tr th:only-of-type {\n",
       "        vertical-align: middle;\n",
       "    }\n",
       "\n",
       "    .dataframe tbody tr th {\n",
       "        vertical-align: top;\n",
       "    }\n",
       "\n",
       "    .dataframe thead th {\n",
       "        text-align: right;\n",
       "    }\n",
       "</style>\n",
       "<table border=\"1\" class=\"dataframe\">\n",
       "  <thead>\n",
       "    <tr style=\"text-align: right;\">\n",
       "      <th></th>\n",
       "      <th>cgpa</th>\n",
       "      <th>iq</th>\n",
       "      <th>placement</th>\n",
       "    </tr>\n",
       "  </thead>\n",
       "  <tbody>\n",
       "    <tr>\n",
       "      <th>count</th>\n",
       "      <td>100.000000</td>\n",
       "      <td>100.000000</td>\n",
       "      <td>100.000000</td>\n",
       "    </tr>\n",
       "    <tr>\n",
       "      <th>mean</th>\n",
       "      <td>5.991000</td>\n",
       "      <td>123.580000</td>\n",
       "      <td>0.500000</td>\n",
       "    </tr>\n",
       "    <tr>\n",
       "      <th>std</th>\n",
       "      <td>1.143634</td>\n",
       "      <td>39.944198</td>\n",
       "      <td>0.502519</td>\n",
       "    </tr>\n",
       "    <tr>\n",
       "      <th>min</th>\n",
       "      <td>3.300000</td>\n",
       "      <td>37.000000</td>\n",
       "      <td>0.000000</td>\n",
       "    </tr>\n",
       "    <tr>\n",
       "      <th>25%</th>\n",
       "      <td>5.075000</td>\n",
       "      <td>101.500000</td>\n",
       "      <td>0.000000</td>\n",
       "    </tr>\n",
       "    <tr>\n",
       "      <th>50%</th>\n",
       "      <td>6.000000</td>\n",
       "      <td>127.500000</td>\n",
       "      <td>0.500000</td>\n",
       "    </tr>\n",
       "    <tr>\n",
       "      <th>75%</th>\n",
       "      <td>6.900000</td>\n",
       "      <td>149.000000</td>\n",
       "      <td>1.000000</td>\n",
       "    </tr>\n",
       "    <tr>\n",
       "      <th>max</th>\n",
       "      <td>8.500000</td>\n",
       "      <td>233.000000</td>\n",
       "      <td>1.000000</td>\n",
       "    </tr>\n",
       "  </tbody>\n",
       "</table>\n",
       "</div>"
      ],
      "text/plain": [
       "             cgpa          iq   placement\n",
       "count  100.000000  100.000000  100.000000\n",
       "mean     5.991000  123.580000    0.500000\n",
       "std      1.143634   39.944198    0.502519\n",
       "min      3.300000   37.000000    0.000000\n",
       "25%      5.075000  101.500000    0.000000\n",
       "50%      6.000000  127.500000    0.500000\n",
       "75%      6.900000  149.000000    1.000000\n",
       "max      8.500000  233.000000    1.000000"
      ]
     },
     "execution_count": 6,
     "metadata": {},
     "output_type": "execute_result"
    }
   ],
   "source": [
    "data.describe()"
   ]
  },
  {
   "cell_type": "code",
   "execution_count": 7,
   "id": "5de849c0",
   "metadata": {},
   "outputs": [
    {
     "data": {
      "text/plain": [
       "cgpa         float64\n",
       "iq           float64\n",
       "placement      int64\n",
       "dtype: object"
      ]
     },
     "execution_count": 7,
     "metadata": {},
     "output_type": "execute_result"
    }
   ],
   "source": [
    "data.dtypes"
   ]
  },
  {
   "cell_type": "markdown",
   "id": "459b5684",
   "metadata": {},
   "source": [
    "## visualizing of data to find insights from it "
   ]
  },
  {
   "cell_type": "code",
   "execution_count": 8,
   "id": "40a58c30",
   "metadata": {},
   "outputs": [
    {
     "data": {
      "image/png": "[encoded data removed]",
      "text/plain": [
       "<Figure size 432x288 with 1 Axes>"
      ]
     },
     "metadata": {
      "needs_background": "light"
     },
     "output_type": "display_data"
    }
   ],
   "source": [
    "plt.hist(data['cgpa'],bins = 5,color='blue')\n",
    "plt.xlabel('CGPA')\n",
    "plt.ylabel('Count of CGPA')\n",
    "plt.show()\n"
   ]
  },
  {
   "cell_type": "code",
   "execution_count": 9,
   "id": "dabdeb07",
   "metadata": {},
   "outputs": [
    {
     "data": {
      "image/png": "[encoded data removed]",
      "text/plain": [
       "<Figure size 432x288 with 1 Axes>"
      ]
     },
     "metadata": {
      "needs_background": "light"
     },
     "output_type": "display_data"
    }
   ],
   "source": [
    "plt.hist(data['iq'],bins = 5,color='blue')\n",
    "plt.xlabel('IQ')\n",
    "plt.ylabel('Count of IQ')\n",
    "plt.show()\n"
   ]
  },
  {
   "cell_type": "code",
   "execution_count": 10,
   "id": "caf62534",
   "metadata": {},
   "outputs": [
    {
     "data": {
      "image/png": "[encoded data removed]",
      "text/plain": [
       "<Figure size 432x288 with 1 Axes>"
      ]
     },
     "metadata": {
      "needs_background": "light"
     },
     "output_type": "display_data"
    }
   ],
   "source": [
    "plt.scatter(data['cgpa'],data['iq'],color='blue')\n",
    "plt.xlabel('CGPA')\n",
    "plt.ylabel('IQ')\n",
    "plt.title('IQ vs CGPA')\n",
    "plt.show()"
   ]
  },
  {
   "cell_type": "markdown",
   "id": "4f110c1c",
   "metadata": {},
   "source": [
    "## checking for outliers by using Box plot "
   ]
  },
  {
   "cell_type": "code",
   "execution_count": 11,
   "id": "f1e46d34",
   "metadata": {
    "scrolled": true
   },
   "outputs": [
    {
     "data": {
      "image/png": "[encoded data removed]",
      "text/plain": [
       "<Figure size 432x288 with 1 Axes>"
      ]
     },
     "metadata": {
      "needs_background": "light"
     },
     "output_type": "display_data"
    }
   ],
   "source": [
    "#Checking for outliers\n",
    "plt.boxplot(data['cgpa'])\n",
    "plt.xlabel('CGPA')\n",
    "plt.ylabel('Distribution')\n",
    "plt.title('Box plot')\n",
    "plt.show()"
   ]
  },
  {
   "cell_type": "markdown",
   "id": "8f931b6b",
   "metadata": {},
   "source": [
    "## The Data does not contain any outliers"
   ]
  },
  {
   "cell_type": "markdown",
   "id": "10696d98",
   "metadata": {},
   "source": [
    "# Missing values checking"
   ]
  },
  {
   "cell_type": "code",
   "execution_count": 12,
   "id": "1baeaaa0",
   "metadata": {},
   "outputs": [
    {
     "data": {
      "text/plain": [
       "cgpa         0\n",
       "iq           0\n",
       "placement    0\n",
       "dtype: int64"
      ]
     },
     "execution_count": 12,
     "metadata": {},
     "output_type": "execute_result"
    }
   ],
   "source": [
    "data.isnull().sum()"
   ]
  },
  {
   "cell_type": "markdown",
   "id": "acbce44a",
   "metadata": {},
   "source": [
    "## no missing values"
   ]
  },
  {
   "cell_type": "code",
   "execution_count": 13,
   "id": "6d951683",
   "metadata": {},
   "outputs": [
    {
     "name": "stdout",
     "output_type": "stream",
     "text": [
      "[6.8 5.9 5.3 7.4 5.8 7.1 5.7 5.  6.1 5.1 6.  6.9 5.4 6.4 5.2 3.3 4.  6.6\n",
      " 4.9 4.7 7.  7.6 3.9 4.8 8.1 6.5 4.6 7.5 3.5 8.3 7.8 8.  7.3 6.3 8.5 6.7\n",
      " 4.4 4.3 6.2]\n"
     ]
    }
   ],
   "source": [
    "#checking unique values\n",
    "uniq = data['cgpa'].unique()\n",
    "print(uniq)"
   ]
  },
  {
   "cell_type": "code",
   "execution_count": 14,
   "id": "b1bb0b29",
   "metadata": {},
   "outputs": [
    {
     "name": "stdout",
     "output_type": "stream",
     "text": [
      "[123. 106. 121. 132. 142.  48. 143.  63. 156.  66.  45. 138. 139. 116.\n",
      " 103. 176. 224. 183. 100. 120. 151.  87.  91. 199. 124.  90. 112. 128.\n",
      " 109. 149. 163. 140. 160. 146. 134. 114.  89. 141.  61. 161. 135. 233.\n",
      " 175. 168.  65. 130.  79. 137. 102.  64. 166.  96. 118.  75. 127. 154.\n",
      " 169. 155.  50.  81. 196. 107.  37.  86. 158. 110.  52. 200.  42. 182.\n",
      " 113.]\n"
     ]
    }
   ],
   "source": [
    "uniq1 = data['iq'].unique()\n",
    "print(uniq1)"
   ]
  },
  {
   "cell_type": "markdown",
   "id": "575d8429",
   "metadata": {},
   "source": [
    "## separating target and features and splitting into train and test  "
   ]
  },
  {
   "cell_type": "code",
   "execution_count": 15,
   "id": "7d3129d6",
   "metadata": {},
   "outputs": [],
   "source": [
    "from sklearn.linear_model import LogisticRegression\n",
    "from sklearn.model_selection import train_test_split"
   ]
  },
  {
   "cell_type": "code",
   "execution_count": 16,
   "id": "3cb86c90",
   "metadata": {},
   "outputs": [],
   "source": [
    "x = data[['cgpa','iq']]\n",
    "y = data['placement']"
   ]
  },
  {
   "cell_type": "code",
   "execution_count": 17,
   "id": "a87874b2",
   "metadata": {},
   "outputs": [],
   "source": [
    "X_train, X_test, y_train, y_test = train_test_split(x, y, test_size=0.3, random_state=42)"
   ]
  },
  {
   "cell_type": "markdown",
   "id": "ed685e44",
   "metadata": {},
   "source": [
    "## data modelling using logistic regression"
   ]
  },
  {
   "cell_type": "code",
   "execution_count": 18,
   "id": "e87724cc",
   "metadata": {},
   "outputs": [
    {
     "name": "stdout",
     "output_type": "stream",
     "text": [
      "[1 1 1 0 1 0 0 0 0 1 0 1 0 1 1 0 0 1 0 0 1 0 1 1 1 0 0 0 0 1]\n"
     ]
    }
   ],
   "source": [
    "model = LogisticRegression()\n",
    "model.fit(X_train,y_train)\n",
    "prediction = model.predict(X_test)\n",
    "print(prediction)"
   ]
  },
  {
   "cell_type": "code",
   "execution_count": 19,
   "id": "2d4777c6",
   "metadata": {},
   "outputs": [
    {
     "name": "stdout",
     "output_type": "stream",
     "text": [
      "Accuracy: 0.9\n"
     ]
    }
   ],
   "source": [
    "acc = accuracy_score(y_test,prediction)\n",
    "print(\"Accuracy:\",acc)"
   ]
  },
  {
   "cell_type": "markdown",
   "id": "e134fd33",
   "metadata": {},
   "source": [
    "## iterating the data for 15 times with logistic regression "
   ]
  },
  {
   "cell_type": "code",
   "execution_count": 20,
   "id": "70e5abc6",
   "metadata": {},
   "outputs": [
    {
     "name": "stdout",
     "output_type": "stream",
     "text": [
      "Iteration 1 - Accuracy: 83.33%\n",
      "Iteration 2 - Accuracy: 86.67%\n",
      "Iteration 3 - Accuracy: 90.00%\n",
      "Iteration 4 - Accuracy: 93.33%\n",
      "Iteration 5 - Accuracy: 93.33%\n",
      "Iteration 6 - Accuracy: 90.00%\n",
      "Iteration 7 - Accuracy: 96.67%\n",
      "Iteration 8 - Accuracy: 93.33%\n",
      "Iteration 9 - Accuracy: 93.33%\n",
      "Iteration 10 - Accuracy: 93.33%\n",
      "Iteration 11 - Accuracy: 96.67%\n",
      "Iteration 12 - Accuracy: 93.33%\n",
      "Iteration 13 - Accuracy: 93.33%\n",
      "Iteration 14 - Accuracy: 86.67%\n",
      "Iteration 15 - Accuracy: 96.67%\n"
     ]
    }
   ],
   "source": [
    "from sklearn.linear_model import LogisticRegression\n",
    "from sklearn.metrics import accuracy_score\n",
    "from sklearn.model_selection import train_test_split\n",
    "\n",
    "model = LogisticRegression()\n",
    "\n",
    "accuracy_scores = []\n",
    "\n",
    "for i in range(15):\n",
    "    train_X, test_X, train_y, test_y = train_test_split(x, y, test_size=0.3, random_state=i)\n",
    "    \n",
    "    model.fit(train_X, train_y)\n",
    "    predictions = model.predict(test_X)\n",
    "\n",
    "    accuracy = accuracy_score(test_y, predictions)\n",
    "    accuracy_scores.append(accuracy)\n",
    "\n",
    "for i, score in enumerate(accuracy_scores):\n",
    "    print(f'Iteration {i + 1} - Accuracy: {score:.2%}')\n"
   ]
  },
  {
   "cell_type": "markdown",
   "id": "8fb4ea78",
   "metadata": {},
   "source": [
    "# Predicting the placement of student randomly with cgpa and iq using Logistic Regression"
   ]
  },
  {
   "cell_type": "code",
   "execution_count": 21,
   "id": "cd181cb6",
   "metadata": {},
   "outputs": [
    {
     "name": "stdout",
     "output_type": "stream",
     "text": [
      "[1]\n"
     ]
    },
    {
     "name": "stderr",
     "output_type": "stream",
     "text": [
      "C:\\Users\\mohammed rafik m\\Downloads\\New folder\\anaconda\\lib\\site-packages\\sklearn\\base.py:450: UserWarning: X does not have valid feature names, but LogisticRegression was fitted with feature names\n",
      "  warnings.warn(\n"
     ]
    }
   ],
   "source": [
    "import numpy as np\n",
    "features = np.array([[8.9,170]])\n",
    "print(model.predict(features))"
   ]
  },
  {
   "cell_type": "code",
   "execution_count": 22,
   "id": "91ba0538",
   "metadata": {},
   "outputs": [
    {
     "name": "stdout",
     "output_type": "stream",
     "text": [
      "[0]\n"
     ]
    },
    {
     "name": "stderr",
     "output_type": "stream",
     "text": [
      "C:\\Users\\mohammed rafik m\\Downloads\\New folder\\anaconda\\lib\\site-packages\\sklearn\\base.py:450: UserWarning: X does not have valid feature names, but LogisticRegression was fitted with feature names\n",
      "  warnings.warn(\n"
     ]
    }
   ],
   "source": [
    "features = np.array([[4.7,120]])\n",
    "print(model.predict(features))"
   ]
  },
  {
   "cell_type": "markdown",
   "id": "880bfacc",
   "metadata": {},
   "source": [
    "## data modelling using Random Forest Algorithm "
   ]
  },
  {
   "cell_type": "code",
   "execution_count": 23,
   "id": "86c85e53",
   "metadata": {},
   "outputs": [
    {
     "name": "stdout",
     "output_type": "stream",
     "text": [
      "Accuracy: 0.9333333333333333\n"
     ]
    }
   ],
   "source": [
    "from sklearn.ensemble import RandomForestClassifier\n",
    "from sklearn.model_selection import train_test_split\n",
    "\n",
    "X_train, X_test, y_train, y_test = train_test_split(x, y, test_size=0.3, random_state=42)\n",
    "\n",
    "model = RandomForestClassifier()\n",
    "model.fit(X_train,y_train)\n",
    "prediction = model.predict(X_test)\n",
    "acc = accuracy_score(y_test,prediction)\n",
    "print(\"Accuracy:\",acc)"
   ]
  },
  {
   "cell_type": "code",
   "execution_count": 24,
   "id": "71828ee4",
   "metadata": {},
   "outputs": [
    {
     "name": "stdout",
     "output_type": "stream",
     "text": [
      "Iteration 1 - Accuracy: 86.67%\n",
      "Iteration 2 - Accuracy: 93.33%\n",
      "Iteration 3 - Accuracy: 96.67%\n",
      "Iteration 4 - Accuracy: 96.67%\n",
      "Iteration 5 - Accuracy: 93.33%\n",
      "Iteration 6 - Accuracy: 90.00%\n",
      "Iteration 7 - Accuracy: 96.67%\n",
      "Iteration 8 - Accuracy: 93.33%\n",
      "Iteration 9 - Accuracy: 96.67%\n",
      "Iteration 10 - Accuracy: 100.00%\n",
      "Iteration 11 - Accuracy: 100.00%\n",
      "Iteration 12 - Accuracy: 100.00%\n",
      "Iteration 13 - Accuracy: 100.00%\n",
      "Iteration 14 - Accuracy: 90.00%\n",
      "Iteration 15 - Accuracy: 96.67%\n"
     ]
    }
   ],
   "source": [
    "from sklearn.ensemble import RandomForestClassifier\n",
    "from sklearn.metrics import accuracy_score\n",
    "from sklearn.model_selection import train_test_split\n",
    "\n",
    "model = RandomForestClassifier(n_estimators=100)  \n",
    "\n",
    "accuracy_scores = []\n",
    "\n",
    "for i in range(15):\n",
    "   \n",
    "    train_X, test_X, train_y, test_y = train_test_split(x, y, test_size=0.3, random_state=i)\n",
    "    \n",
    "    model.fit(train_X, train_y)\n",
    "   \n",
    "    predictions = model.predict(test_X)\n",
    "    \n",
    "    accuracy = accuracy_score(test_y, predictions)\n",
    "    accuracy_scores.append(accuracy)\n",
    "\n",
    "\n",
    "for i, score in enumerate(accuracy_scores):\n",
    "    print(f'Iteration {i + 1} - Accuracy: {score:.2%}')\n"
   ]
  },
  {
   "cell_type": "markdown",
   "id": "abdbcd9d",
   "metadata": {},
   "source": [
    "# Predicting the placement of student randomly with cgpa and iq using Random Forest"
   ]
  },
  {
   "cell_type": "code",
   "execution_count": 25,
   "id": "f1be77f3",
   "metadata": {},
   "outputs": [
    {
     "name": "stdout",
     "output_type": "stream",
     "text": [
      "[1]\n"
     ]
    },
    {
     "name": "stderr",
     "output_type": "stream",
     "text": [
      "C:\\Users\\mohammed rafik m\\Downloads\\New folder\\anaconda\\lib\\site-packages\\sklearn\\base.py:450: UserWarning: X does not have valid feature names, but RandomForestClassifier was fitted with feature names\n",
      "  warnings.warn(\n"
     ]
    }
   ],
   "source": [
    "import numpy as np\n",
    "features = np.array([[7.0,160]])\n",
    "print(model.predict(features))"
   ]
  },
  {
   "cell_type": "code",
   "execution_count": 26,
   "id": "1ef2759a",
   "metadata": {},
   "outputs": [
    {
     "name": "stdout",
     "output_type": "stream",
     "text": [
      "[0]\n"
     ]
    },
    {
     "name": "stderr",
     "output_type": "stream",
     "text": [
      "C:\\Users\\mohammed rafik m\\Downloads\\New folder\\anaconda\\lib\\site-packages\\sklearn\\base.py:450: UserWarning: X does not have valid feature names, but RandomForestClassifier was fitted with feature names\n",
      "  warnings.warn(\n"
     ]
    }
   ],
   "source": [
    "features = np.array([[5.0,120]])\n",
    "print(model.predict(features))"
   ]
  },
  {
   "cell_type": "markdown",
   "id": "f2725ca9",
   "metadata": {},
   "source": [
    "# Summary"
   ]
  },
  {
   "cell_type": "markdown",
   "id": "1a1bd9e5",
   "metadata": {},
   "source": [
    "## Thus, the prediction of placement of a students with cgpa and iq has been successful with machine learning algorithms of Logistic Regression and Random Forest algoritm "
   ]
  },
  {
   "cell_type": "markdown",
   "id": "d73c4feb",
   "metadata": {},
   "source": [
    "# where,\n",
    "## 1 - placed\n",
    "## 0 - not placed"
   ]
  },
  {
   "cell_type": "code",
   "execution_count": null,
   "id": "37c6fcb7",
   "metadata": {},
   "outputs": [],
   "source": []
  }
 ],
 "metadata": {
  "kernelspec": {
   "display_name": "Python 3 (ipykernel)",
   "language": "python",
   "name": "python3"
  },
  "language_info": {
   "codemirror_mode": {
    "name": "ipython",
    "version": 3
   },
   "file_extension": ".py",
   "mimetype": "text/x-python",
   "name": "python",
   "nbconvert_exporter": "python",
   "pygments_lexer": "ipython3",
   "version": "3.9.12"
  }
 },
 "nbformat": 4,
 "nbformat_minor": 5
}
